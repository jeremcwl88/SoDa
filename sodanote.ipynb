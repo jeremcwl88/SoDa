{
 "cells": [
  {
   "cell_type": "code",
   "execution_count": 1,
   "metadata": {},
   "outputs": [],
   "source": [
    "import soda"
   ]
  },
  {
   "cell_type": "code",
   "execution_count": 2,
   "metadata": {},
   "outputs": [],
   "source": [
    "lat = 33.9533\n",
    "lon = -117.3962\n",
    "\n",
    "site = soda.SolarSite(lat,lon)"
   ]
  },
  {
   "cell_type": "code",
   "execution_count": 3,
   "metadata": {},
   "outputs": [
    {
     "name": "stderr",
     "output_type": "stream",
     "text": [
      "c:\\users\\jc0743a\\soda\\soda\\solar_data.py:67: FutureWarning: Using short name for 'orient' is deprecated. Only the options: ('dict', list, 'series', 'split', 'records', 'index') will be used in a future version. Use one of the above to silence this warning.\n",
      "  self.meta_resource_data = meta.T.to_dict('r')[0]\n"
     ]
    }
   ],
   "source": [
    "year = \"2015\"\n",
    "leap_year = False\n",
    "interval = \"30\"\n",
    "utc = False\n",
    "df = site.get_nsrdb_data(year,leap_year,interval,utc)"
   ]
  },
  {
   "cell_type": "code",
   "execution_count": 5,
   "metadata": {},
   "outputs": [],
   "source": [
    "clearsky = False\n",
    "capacity = 1\n",
    "DC_AC_ratio = 1.2\n",
    "tilt = 33\n",
    "azimuth = 180\n",
    "inv_eff = 96\n",
    "losses = 15\n",
    "array_type = 0\n",
    "\n",
    "pwr = site.generate_solar_power_from_nsrdb(clearsky,capacity,DC_AC_ratio,tilt,azimuth,inv_eff,losses,array_type)"
   ]
  },
  {
   "cell_type": "code",
   "execution_count": 9,
   "metadata": {},
   "outputs": [
    {
     "name": "stderr",
     "output_type": "stream",
     "text": [
      "c:\\users\\jc0743a\\soda\\soda\\solar_data.py:183: FutureWarning: Indexing a DataFrame with a datetimelike index using a single string to slice the rows, like `frame[string]`, is deprecated and will be removed in a future version. Use `frame.loc[string]` instead.\n",
      "  ts = self.solar_power_from_nsrdb[date].resample(\"1S\").interpolate(method=\"linear\")\n",
      "c:\\users\\jc0743a\\soda\\soda\\solar_data.py:188: FutureWarning: pad is deprecated and will be removed in a future version. Use ffill instead.\n",
      "  ct = self.cloud_type[date].resample(\"1S\").pad()\n"
     ]
    }
   ],
   "source": [
    "date = \"2015-01-11\"\n",
    "resolution = \"30S\"\n",
    "solar_data = site.generate_high_resolution_power_data(resolution, date)"
   ]
  },
  {
   "cell_type": "code",
   "execution_count": 10,
   "metadata": {},
   "outputs": [
    {
     "data": {
      "text/html": [
       "<div>\n",
       "<style scoped>\n",
       "    .dataframe tbody tr th:only-of-type {\n",
       "        vertical-align: middle;\n",
       "    }\n",
       "\n",
       "    .dataframe tbody tr th {\n",
       "        vertical-align: top;\n",
       "    }\n",
       "\n",
       "    .dataframe thead th {\n",
       "        text-align: right;\n",
       "    }\n",
       "</style>\n",
       "<table border=\"1\" class=\"dataframe\">\n",
       "  <thead>\n",
       "    <tr style=\"text-align: right;\">\n",
       "      <th></th>\n",
       "      <th>HighRes</th>\n",
       "    </tr>\n",
       "  </thead>\n",
       "  <tbody>\n",
       "    <tr>\n",
       "      <th>2015-01-11 00:00:00</th>\n",
       "      <td>0.0</td>\n",
       "    </tr>\n",
       "    <tr>\n",
       "      <th>2015-01-11 00:00:30</th>\n",
       "      <td>0.0</td>\n",
       "    </tr>\n",
       "    <tr>\n",
       "      <th>2015-01-11 00:01:00</th>\n",
       "      <td>0.0</td>\n",
       "    </tr>\n",
       "    <tr>\n",
       "      <th>2015-01-11 00:01:30</th>\n",
       "      <td>0.0</td>\n",
       "    </tr>\n",
       "    <tr>\n",
       "      <th>2015-01-11 00:02:00</th>\n",
       "      <td>0.0</td>\n",
       "    </tr>\n",
       "    <tr>\n",
       "      <th>...</th>\n",
       "      <td>...</td>\n",
       "    </tr>\n",
       "    <tr>\n",
       "      <th>2015-01-11 23:57:30</th>\n",
       "      <td>0.0</td>\n",
       "    </tr>\n",
       "    <tr>\n",
       "      <th>2015-01-11 23:58:00</th>\n",
       "      <td>0.0</td>\n",
       "    </tr>\n",
       "    <tr>\n",
       "      <th>2015-01-11 23:58:30</th>\n",
       "      <td>0.0</td>\n",
       "    </tr>\n",
       "    <tr>\n",
       "      <th>2015-01-11 23:59:00</th>\n",
       "      <td>0.0</td>\n",
       "    </tr>\n",
       "    <tr>\n",
       "      <th>2015-01-11 23:59:30</th>\n",
       "      <td>0.0</td>\n",
       "    </tr>\n",
       "  </tbody>\n",
       "</table>\n",
       "<p>2880 rows × 1 columns</p>\n",
       "</div>"
      ],
      "text/plain": [
       "                     HighRes\n",
       "2015-01-11 00:00:00      0.0\n",
       "2015-01-11 00:00:30      0.0\n",
       "2015-01-11 00:01:00      0.0\n",
       "2015-01-11 00:01:30      0.0\n",
       "2015-01-11 00:02:00      0.0\n",
       "...                      ...\n",
       "2015-01-11 23:57:30      0.0\n",
       "2015-01-11 23:58:00      0.0\n",
       "2015-01-11 23:58:30      0.0\n",
       "2015-01-11 23:59:00      0.0\n",
       "2015-01-11 23:59:30      0.0\n",
       "\n",
       "[2880 rows x 1 columns]"
      ]
     },
     "execution_count": 10,
     "metadata": {},
     "output_type": "execute_result"
    }
   ],
   "source": [
    "solar_data"
   ]
  },
  {
   "cell_type": "code",
   "execution_count": null,
   "metadata": {},
   "outputs": [],
   "source": []
  }
 ],
 "metadata": {
  "kernelspec": {
   "display_name": "Python 3",
   "language": "python",
   "name": "python3"
  },
  "language_info": {
   "codemirror_mode": {
    "name": "ipython",
    "version": 3
   },
   "file_extension": ".py",
   "mimetype": "text/x-python",
   "name": "python",
   "nbconvert_exporter": "python",
   "pygments_lexer": "ipython3",
   "version": "3.11.0"
  },
  "orig_nbformat": 4,
  "vscode": {
   "interpreter": {
    "hash": "7d220d5ddc9374d76c9e2518e8cd5898ab8b205692a63b2a3b62443b92eb3aa3"
   }
  }
 },
 "nbformat": 4,
 "nbformat_minor": 2
}
